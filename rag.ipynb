{
 "cells": [
  {
   "metadata": {
    "ExecuteTime": {
     "end_time": "2024-05-31T04:17:32.460173Z",
     "start_time": "2024-05-31T04:10:48.405025Z"
    }
   },
   "cell_type": "code",
   "source": [
    "from src.ingestion import Ingestion\n",
    "import glob\n",
    "\n",
    "ingestion = Ingestion()\n",
    "\n",
    "for file in glob.glob(\"data/v1/docs/*.pdf\"):\n",
    "    ingestion.ingest_documents(\n",
    "        file=file\n",
    "    )"
   ],
   "id": "572fbdd007709a38",
   "outputs": [
    {
     "name": "stderr",
     "output_type": "stream",
     "text": [
      "Creating 562 embeddings in 2 batches of size 500:: 100%|██████████| 2/2 [00:21<00:00, 10.99s/it]\n",
      "Creating 630 embeddings in 2 batches of size 500:: 100%|██████████| 2/2 [00:24<00:00, 12.43s/it]\n",
      "Creating 169 embeddings in 1 batches of size 169:: 100%|██████████| 1/1 [00:06<00:00,  6.77s/it]\n",
      "Creating 375 embeddings in 1 batches of size 375:: 100%|██████████| 1/1 [00:12<00:00, 12.66s/it]\n",
      "Creating 355 embeddings in 1 batches of size 355:: 100%|██████████| 1/1 [00:11<00:00, 11.99s/it]\n",
      "Creating 421 embeddings in 1 batches of size 421:: 100%|██████████| 1/1 [00:14<00:00, 14.15s/it]\n",
      "Creating 304 embeddings in 1 batches of size 304:: 100%|██████████| 1/1 [00:10<00:00, 10.74s/it]\n",
      "Creating 170 embeddings in 1 batches of size 170:: 100%|██████████| 1/1 [00:05<00:00,  5.56s/it]\n",
      "Creating 399 embeddings in 1 batches of size 399:: 100%|██████████| 1/1 [00:17<00:00, 17.41s/it]\n",
      "Creating 350 embeddings in 1 batches of size 350:: 100%|██████████| 1/1 [00:13<00:00, 13.48s/it]\n",
      "Creating 451 embeddings in 1 batches of size 451:: 100%|██████████| 1/1 [00:15<00:00, 15.58s/it]\n",
      "Creating 563 embeddings in 2 batches of size 500:: 100%|██████████| 2/2 [00:21<00:00, 10.50s/it]\n",
      "Creating 366 embeddings in 1 batches of size 366:: 100%|██████████| 1/1 [00:12<00:00, 12.14s/it]\n",
      "Creating 420 embeddings in 1 batches of size 420:: 100%|██████████| 1/1 [00:15<00:00, 15.20s/it]\n",
      "Creating 278 embeddings in 1 batches of size 278:: 100%|██████████| 1/1 [00:09<00:00,  9.09s/it]\n",
      "Creating 409 embeddings in 1 batches of size 409:: 100%|██████████| 1/1 [00:14<00:00, 14.06s/it]\n",
      "Creating 429 embeddings in 1 batches of size 429:: 100%|██████████| 1/1 [00:15<00:00, 15.80s/it]\n",
      "Creating 494 embeddings in 1 batches of size 494:: 100%|██████████| 1/1 [00:15<00:00, 15.60s/it]\n",
      "Creating 347 embeddings in 1 batches of size 347:: 100%|██████████| 1/1 [00:12<00:00, 12.82s/it]\n",
      "Creating 170 embeddings in 1 batches of size 170:: 100%|██████████| 1/1 [00:05<00:00,  5.53s/it]\n"
     ]
    }
   ],
   "execution_count": 4
  },
  {
   "metadata": {
    "ExecuteTime": {
     "end_time": "2024-05-31T04:30:06.816557Z",
     "start_time": "2024-05-31T04:30:00.903745Z"
    }
   },
   "cell_type": "code",
   "source": [
    "from src.qachain import QAChain\n",
    "\n",
    "qna = QAChain()"
   ],
   "id": "1a09a8ec35abebb4",
   "outputs": [
    {
     "name": "stdout",
     "output_type": "stream",
     "text": [
      "Deep Lake Dataset in database/cache_vectorstore already exists, loading from the storage\n"
     ]
    }
   ],
   "execution_count": 1
  },
  {
   "metadata": {
    "ExecuteTime": {
     "end_time": "2024-05-31T04:30:06.823037Z",
     "start_time": "2024-05-31T04:30:06.818887Z"
    }
   },
   "cell_type": "code",
   "source": [
    "queries = [\"How has Amazon's total net sales changed over time?\", \n",
    "         \"What are the major factors contributing to the change in Apple's gross margin in the most recent 10-Q compared to the previous quarters?\",\n",
    "         \"Has Microsoft partaken in any substantial stock buyback programs in the reported quarters, and what are the economic consequences of these actions?\",\n",
    "         \"What effective tax rate has Microsoft reported in these quarters and how does it differ from period to period?\",\n",
    "         \"What are the key changes in NVIDIA's liquidity status or cash flows as disclosed in these quarterly reports?\"]"
   ],
   "id": "50e1462e0106e82d",
   "outputs": [],
   "execution_count": 2
  },
  {
   "metadata": {
    "ExecuteTime": {
     "end_time": "2024-05-31T04:30:09.587335Z",
     "start_time": "2024-05-31T04:30:06.826727Z"
    }
   },
   "cell_type": "code",
   "source": [
    "for query in queries:\n",
    "    results = qna.ask_question(\n",
    "        query=query\n",
    "    )\n",
    "    print(\"query:\")\n",
    "    print(query)\n",
    "    print(\"answer:\")\n",
    "    print(results)\n",
    "    print('='*10)"
   ],
   "id": "fbe953e7b9628e02",
   "outputs": [
    {
     "name": "stdout",
     "output_type": "stream",
     "text": [
      "Using cache\n",
      "query:\n",
      "How has Amazon's total net sales changed over time?\n",
      "answer:\n",
      "Amazon's total net sales have increased over time. In the three months ended September 30, 2021, Amazon's total net sales were $110,812 million. In the three months ended September 30, 2022, Amazon's total net sales were $127,101 million. This represents an increase of 15%. For the nine months ended September 30, 2021, Amazon's total net sales were $332,410 million. For the nine months ended September 30, 2022, Amazon's total net sales were $364,779 million. This represents an increase of 10%.\n",
      "==========\n",
      "Using cache\n",
      "query:\n",
      "What are the major factors contributing to the change in Apple's gross margin in the most recent 10-Q compared to the previous quarters?\n",
      "answer:\n",
      "This context does not mention anything about the major factors contributing to the change in Apple's gross margin in the most recent 10-Q compared to the previous quarters, so I cannot answer this question from the provided context.\n",
      "==========\n",
      "Using cache\n",
      "query:\n",
      "Has Microsoft partaken in any substantial stock buyback programs in the reported quarters, and what are the economic consequences of these actions?\n",
      "answer:\n",
      "The provided text does not mention Microsoft or any of its stock buyback programs. Therefore, I cannot answer this question from the provided context.\n",
      "==========\n",
      "Using cache\n",
      "query:\n",
      "What effective tax rate has Microsoft reported in these quarters and how does it differ from period to period?\n",
      "answer:\n",
      "The provided text does not contain any information about Microsoft's effective tax rate.\n",
      "==========\n",
      "Using cache\n",
      "query:\n",
      "What are the key changes in NVIDIA's liquidity status or cash flows as disclosed in these quarterly reports?\n",
      "answer:\n",
      "- The company's cash and cash equivalents increased by $4,921 million, from $28,861 million to $29,898 million.\n",
      "- The company's cash generated by operating activities decreased by $9,079 million, from $98,024 million to $88,945 million.\n",
      "- The company's cash used in financing activities decreased by $1,380 million, from $85,335 million to $83,955 million.\n",
      "- The company repurchased $18.0 billion of its common stock and paid dividends and dividend equivalents of $3.8 billion during the third quarter of 2023.\n",
      "==========\n"
     ]
    }
   ],
   "execution_count": 3
  },
  {
   "metadata": {},
   "cell_type": "code",
   "outputs": [],
   "execution_count": null,
   "source": "",
   "id": "4ebc550dcf8b018e"
  }
 ],
 "metadata": {
  "kernelspec": {
   "display_name": "Python 3",
   "language": "python",
   "name": "python3"
  },
  "language_info": {
   "codemirror_mode": {
    "name": "ipython",
    "version": 2
   },
   "file_extension": ".py",
   "mimetype": "text/x-python",
   "name": "python",
   "nbconvert_exporter": "python",
   "pygments_lexer": "ipython2",
   "version": "2.7.6"
  }
 },
 "nbformat": 4,
 "nbformat_minor": 5
}
