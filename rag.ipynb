{
 "cells": [
  {
   "metadata": {
    "ExecuteTime": {
     "end_time": "2024-05-30T04:33:18.495672Z",
     "start_time": "2024-05-30T04:32:50.053646Z"
    }
   },
   "cell_type": "code",
   "source": [
    "from src.ingestion import Ingestion\n",
    "\n",
    "ingestion = Ingestion()\n",
    "\n",
    "file = \"data/v1/docs/2022 Q3 AMZN.pdf\"\n",
    "\n",
    "ingestion.ingest_documents(\n",
    "    file=file\n",
    ")"
   ],
   "id": "572fbdd007709a38",
   "outputs": [
    {
     "name": "stderr",
     "output_type": "stream",
     "text": [
      "Creating 421 embeddings in 1 batches of size 421:: 100%|██████████| 1/1 [00:12<00:00, 12.63s/it]\n"
     ]
    }
   ],
   "execution_count": 1
  },
  {
   "metadata": {
    "ExecuteTime": {
     "end_time": "2024-05-30T04:33:28.802140Z",
     "start_time": "2024-05-30T04:33:24.374425Z"
    }
   },
   "cell_type": "code",
   "source": [
    "from src.qachain import QAChain\n",
    "\n",
    "qna = QAChain()\n",
    "\n",
    "query = \"chương trình đào tạo chuyên sâu đặc thù trình độ bậc 7 trong bao lâu\"\n",
    "\n",
    "results = qna.ask_question(\n",
    "    query=query\n",
    ")\n",
    "\n",
    "print(results)"
   ],
   "id": "1a09a8ec35abebb4",
   "outputs": [
    {
     "name": "stdout",
     "output_type": "stream",
     "text": [
      "Deep Lake Dataset in database/cache_vectorstore already exists, loading from the storage\n",
      "Using cache\n",
      "Apple's total net sales increased by 2% during the third quarter of 2022 compared to the third quarter of 2021, and by 8% during the first nine months of 2022 compared to the first nine months of 2021.\n"
     ]
    }
   ],
   "execution_count": 2
  }
 ],
 "metadata": {
  "kernelspec": {
   "display_name": "Python 3",
   "language": "python",
   "name": "python3"
  },
  "language_info": {
   "codemirror_mode": {
    "name": "ipython",
    "version": 2
   },
   "file_extension": ".py",
   "mimetype": "text/x-python",
   "name": "python",
   "nbconvert_exporter": "python",
   "pygments_lexer": "ipython2",
   "version": "2.7.6"
  }
 },
 "nbformat": 4,
 "nbformat_minor": 5
}
