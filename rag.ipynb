{
 "cells": [
  {
   "metadata": {},
   "cell_type": "code",
   "source": [
    "from src.ingestion import Ingestion\n",
    "import glob\n",
    "\n",
    "ingestion = Ingestion()\n",
    "\n",
    "for file in glob.glob(\"data/v1/docs/*.pdf\"):\n",
    "    ingestion.ingest_documents(\n",
    "        file=file\n",
    "    )"
   ],
   "id": "572fbdd007709a38",
   "outputs": [],
   "execution_count": null
  },
  {
   "metadata": {},
   "cell_type": "code",
   "outputs": [],
   "execution_count": 14,
   "source": [
    "from langchain_google_genai import GoogleGenerativeAIEmbeddings\n",
    "embeddings = GoogleGenerativeAIEmbeddings(model=\"models/embedding-001\",\n",
    "task_type=\"retrieval_document\", transport='rest'\n",
    ")"
   ],
   "id": "acc0eff3db72ab29"
  },
  {
   "metadata": {},
   "cell_type": "code",
   "outputs": [
    {
     "name": "stderr",
     "output_type": "stream",
     "text": [
      "\r"
     ]
    }
   ],
   "execution_count": 2,
   "source": [
    "from src.qachain import QAChain\n",
    "\n",
    "qna = QAChain()"
   ],
   "id": "1a09a8ec35abebb4"
  },
  {
   "metadata": {
    "ExecuteTime": {
     "end_time": "2024-06-02T16:36:30.544554Z",
     "start_time": "2024-06-02T16:36:30.541799Z"
    }
   },
   "cell_type": "code",
   "source": [
    "queries = [\"How has Amazon's total net sales changed over time?\", \n",
    "         \"What are the major factors contributing to the change in Apple's gross margin in the most recent 10-Q compared to the previous quarters?\",\n",
    "         \"Has Microsoft partaken in any substantial stock buyback programs in the reported quarters, and what are the economic consequences of these actions?\",\n",
    "         \"What effective tax rate has Microsoft reported in these quarters and how does it differ from period to period?\",\n",
    "         \"What are the key changes in NVIDIA's liquidity status or cash flows as disclosed in these quarterly reports?\"]"
   ],
   "id": "50e1462e0106e82d",
   "outputs": [],
   "execution_count": 3
  },
  {
   "metadata": {
    "ExecuteTime": {
     "end_time": "2024-06-02T16:37:09.112869Z",
     "start_time": "2024-06-02T16:36:37.568636Z"
    }
   },
   "cell_type": "code",
   "source": [
    "for query in queries:\n",
    "    results = qna.ask_question(\n",
    "        query=query\n",
    "    )\n",
    "    print(\"query:\")\n",
    "    print(query)\n",
    "    print(\"answer:\")\n",
    "    print(results)\n",
    "    print('='*10)"
   ],
   "id": "fbe953e7b9628e02",
   "outputs": [
    {
     "name": "stdout",
     "output_type": "stream",
     "text": [
      "Exception raised. Generating response.\n",
      "Deep Lake Dataset in database/text_vectorstore already exists, loading from the storage\n"
     ]
    },
    {
     "name": "stderr",
     "output_type": "stream",
     "text": [
      "Creating 1 embeddings in 1 batches of size 1:: 100%|██████████| 1/1 [00:00<00:00,  2.84it/s]\n"
     ]
    },
    {
     "name": "stdout",
     "output_type": "stream",
     "text": [
      "query:\n",
      "How has Amazon's total net sales changed over time?\n",
      "answer:\n",
      "Amazon's total net sales have increased over time. In the three months ended June 30, 2022, total net sales were $121,234 million. In the three months ended June 30, 2023, total net sales were $134,383 million. In the six months ended June 30, 2022, total net sales were $237,678 million. In the six months ended June 30, 2023, total net sales were $261,741 million.\n",
      "==========\n",
      "Generating response\n",
      "Deep Lake Dataset in database/text_vectorstore already exists, loading from the storage\n"
     ]
    },
    {
     "name": "stderr",
     "output_type": "stream",
     "text": [
      "Creating 1 embeddings in 1 batches of size 1:: 100%|██████████| 1/1 [00:00<00:00,  2.86it/s]\n"
     ]
    },
    {
     "name": "stdout",
     "output_type": "stream",
     "text": [
      "query:\n",
      "What are the major factors contributing to the change in Apple's gross margin in the most recent 10-Q compared to the previous quarters?\n",
      "answer:\n",
      "This context does not mention anything about Apple, so I cannot answer this question from the provided context.\n",
      "==========\n",
      "Generating response\n",
      "Deep Lake Dataset in database/text_vectorstore already exists, loading from the storage\n"
     ]
    },
    {
     "name": "stderr",
     "output_type": "stream",
     "text": [
      "Creating 1 embeddings in 1 batches of size 1:: 100%|██████████| 1/1 [00:00<00:00,  2.87it/s]\n"
     ]
    },
    {
     "name": "stdout",
     "output_type": "stream",
     "text": [
      "query:\n",
      "Has Microsoft partaken in any substantial stock buyback programs in the reported quarters, and what are the economic consequences of these actions?\n",
      "answer:\n",
      "The provided text does not mention Microsoft.\n",
      "==========\n",
      "Generating response\n",
      "Deep Lake Dataset in database/text_vectorstore already exists, loading from the storage\n"
     ]
    },
    {
     "name": "stderr",
     "output_type": "stream",
     "text": [
      "Creating 1 embeddings in 1 batches of size 1:: 100%|██████████| 1/1 [00:00<00:00,  2.75it/s]\n"
     ]
    },
    {
     "name": "stdout",
     "output_type": "stream",
     "text": [
      "query:\n",
      "What effective tax rate has Microsoft reported in these quarters and how does it differ from period to period?\n",
      "answer:\n",
      "| Period | Effective Tax Rate |\n",
      "|---|---|\n",
      "| Q3 2023 | 696.2% |\n",
      "| Q3 2022 | 642.0% |\n",
      "| YTD 2023 | 51.4% |\n",
      "| YTD 2022 | (1.3)% |\n",
      "\n",
      "The effective tax rate has varied significantly from period to period, ranging from a benefit of 1.3% in YTD 2022 to a high of 696.2% in Q3 2023.\n",
      "==========\n",
      "Generating response\n",
      "Deep Lake Dataset in database/text_vectorstore already exists, loading from the storage\n"
     ]
    },
    {
     "name": "stderr",
     "output_type": "stream",
     "text": [
      "Creating 1 embeddings in 1 batches of size 1:: 100%|██████████| 1/1 [00:00<00:00,  2.85it/s]"
     ]
    },
    {
     "name": "stdout",
     "output_type": "stream",
     "text": [
      "query:\n",
      "What are the key changes in NVIDIA's liquidity status or cash flows as disclosed in these quarterly reports?\n",
      "answer:\n",
      "The provided text does not contain information about NVIDIA's liquidity status or cash flows.\n",
      "==========\n"
     ]
    },
    {
     "name": "stderr",
     "output_type": "stream",
     "text": [
      "\n"
     ]
    }
   ],
   "execution_count": 5
  },
  {
   "metadata": {
    "ExecuteTime": {
     "end_time": "2024-06-01T16:26:29.382106Z",
     "start_time": "2024-06-01T16:26:29.381999Z"
    }
   },
   "cell_type": "code",
   "source": "",
   "id": "4ebc550dcf8b018e",
   "outputs": [],
   "execution_count": null
  }
 ],
 "metadata": {
  "kernelspec": {
   "display_name": "Python 3",
   "language": "python",
   "name": "python3"
  },
  "language_info": {
   "codemirror_mode": {
    "name": "ipython",
    "version": 2
   },
   "file_extension": ".py",
   "mimetype": "text/x-python",
   "name": "python",
   "nbconvert_exporter": "python",
   "pygments_lexer": "ipython2",
   "version": "2.7.6"
  }
 },
 "nbformat": 4,
 "nbformat_minor": 5
}
