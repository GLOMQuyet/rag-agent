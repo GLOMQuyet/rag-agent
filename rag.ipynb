{
 "cells": [
  {
   "metadata": {
    "ExecuteTime": {
     "end_time": "2024-06-03T03:35:13.014908Z",
     "start_time": "2024-06-03T03:30:39.484741Z"
    }
   },
   "cell_type": "code",
   "source": [
    "from src.ingestion import Ingestion\n",
    "import glob\n",
    "\n",
    "ingestion = Ingestion()\n",
    "\n",
    "for file in glob.glob(\"data/v1/docs/*.pdf\"):\n",
    "    ingestion.ingest_pdf(\n",
    "        file=file\n",
    "    )"
   ],
   "id": "572fbdd007709a38",
   "outputs": [
    {
     "name": "stderr",
     "output_type": "stream",
     "text": [
      "\r"
     ]
    },
    {
     "name": "stdout",
     "output_type": "stream",
     "text": [
      "Attempt ingesting 580 embedding vectors of data/v1/docs/2023 Q1 MSFT.pdf\n"
     ]
    },
    {
     "name": "stderr",
     "output_type": "stream",
     "text": [
      "Creating 100 embeddings in 1 batches of size 100:: 100%|██████████| 1/1 [00:05<00:00,  5.35s/it]\n",
      "Creating 100 embeddings in 1 batches of size 100:: 100%|██████████| 1/1 [00:04<00:00,  4.20s/it]\n",
      "Creating 100 embeddings in 1 batches of size 100:: 100%|██████████| 1/1 [00:03<00:00,  3.62s/it]\n",
      "Creating 100 embeddings in 1 batches of size 100:: 100%|██████████| 1/1 [00:03<00:00,  3.59s/it]\n",
      "Creating 100 embeddings in 1 batches of size 100:: 100%|██████████| 1/1 [00:03<00:00,  3.68s/it]\n",
      "Creating 80 embeddings in 1 batches of size 80:: 100%|██████████| 1/1 [00:03<00:00,  3.18s/it]\n"
     ]
    },
    {
     "name": "stdout",
     "output_type": "stream",
     "text": [
      "Attempt ingesting 640 embedding vectors of data/v1/docs/2022 Q3 MSFT.pdf\n"
     ]
    },
    {
     "name": "stderr",
     "output_type": "stream",
     "text": [
      "Creating 100 embeddings in 1 batches of size 100:: 100%|██████████| 1/1 [00:03<00:00,  3.87s/it]\n",
      "Creating 100 embeddings in 1 batches of size 100:: 100%|██████████| 1/1 [00:03<00:00,  3.65s/it]\n",
      "Creating 100 embeddings in 1 batches of size 100:: 100%|██████████| 1/1 [00:03<00:00,  3.64s/it]\n",
      "Creating 100 embeddings in 1 batches of size 100:: 100%|██████████| 1/1 [00:03<00:00,  3.53s/it]\n",
      "Creating 100 embeddings in 1 batches of size 100:: 100%|██████████| 1/1 [00:03<00:00,  3.59s/it]\n",
      "Creating 100 embeddings in 1 batches of size 100:: 100%|██████████| 1/1 [00:03<00:00,  3.62s/it]\n",
      "Creating 40 embeddings in 1 batches of size 40:: 100%|██████████| 1/1 [00:01<00:00,  1.88s/it]\n"
     ]
    },
    {
     "name": "stdout",
     "output_type": "stream",
     "text": [
      "Attempt ingesting 169 embedding vectors of data/v1/docs/2023 Q2 AAPL.pdf\n"
     ]
    },
    {
     "name": "stderr",
     "output_type": "stream",
     "text": [
      "Creating 100 embeddings in 1 batches of size 100:: 100%|██████████| 1/1 [00:03<00:00,  3.54s/it]\n",
      "Creating 69 embeddings in 1 batches of size 69:: 100%|██████████| 1/1 [00:02<00:00,  2.79s/it]\n"
     ]
    },
    {
     "name": "stdout",
     "output_type": "stream",
     "text": [
      "Attempt ingesting 378 embedding vectors of data/v1/docs/2023 Q2 NVDA.pdf\n"
     ]
    },
    {
     "name": "stderr",
     "output_type": "stream",
     "text": [
      "Creating 100 embeddings in 1 batches of size 100:: 100%|██████████| 1/1 [00:03<00:00,  3.67s/it]\n",
      "Creating 100 embeddings in 1 batches of size 100:: 100%|██████████| 1/1 [00:03<00:00,  3.22s/it]\n",
      "Creating 100 embeddings in 1 batches of size 100:: 100%|██████████| 1/1 [00:03<00:00,  3.13s/it]\n",
      "Creating 78 embeddings in 1 batches of size 78:: 100%|██████████| 1/1 [00:02<00:00,  2.55s/it]\n"
     ]
    },
    {
     "name": "stdout",
     "output_type": "stream",
     "text": [
      "Attempt ingesting 359 embedding vectors of data/v1/docs/2023 Q1 NVDA.pdf\n"
     ]
    },
    {
     "name": "stderr",
     "output_type": "stream",
     "text": [
      "Creating 100 embeddings in 1 batches of size 100:: 100%|██████████| 1/1 [00:03<00:00,  3.01s/it]\n",
      "Creating 100 embeddings in 1 batches of size 100:: 100%|██████████| 1/1 [00:03<00:00,  3.05s/it]\n",
      "Creating 100 embeddings in 1 batches of size 100:: 100%|██████████| 1/1 [00:03<00:00,  3.75s/it]\n",
      "Creating 59 embeddings in 1 batches of size 59:: 100%|██████████| 1/1 [00:02<00:00,  2.95s/it]\n"
     ]
    },
    {
     "name": "stdout",
     "output_type": "stream",
     "text": [
      "Attempt ingesting 422 embedding vectors of data/v1/docs/2022 Q3 AMZN.pdf\n"
     ]
    },
    {
     "name": "stderr",
     "output_type": "stream",
     "text": [
      "Creating 100 embeddings in 1 batches of size 100:: 100%|██████████| 1/1 [00:03<00:00,  3.11s/it]\n",
      "Creating 100 embeddings in 1 batches of size 100:: 100%|██████████| 1/1 [00:03<00:00,  3.55s/it]\n",
      "Creating 100 embeddings in 1 batches of size 100:: 100%|██████████| 1/1 [00:03<00:00,  3.98s/it]\n",
      "Creating 100 embeddings in 1 batches of size 100:: 100%|██████████| 1/1 [00:03<00:00,  3.98s/it]\n",
      "Creating 22 embeddings in 1 batches of size 22:: 100%|██████████| 1/1 [00:01<00:00,  1.29s/it]\n"
     ]
    },
    {
     "name": "stdout",
     "output_type": "stream",
     "text": [
      "Attempt ingesting 303 embedding vectors of data/v1/docs/2023 Q1 AAPL.pdf\n"
     ]
    },
    {
     "name": "stderr",
     "output_type": "stream",
     "text": [
      "Creating 100 embeddings in 1 batches of size 100:: 100%|██████████| 1/1 [00:03<00:00,  3.98s/it]\n",
      "Creating 100 embeddings in 1 batches of size 100:: 100%|██████████| 1/1 [00:04<00:00,  4.44s/it]\n",
      "Creating 100 embeddings in 1 batches of size 100:: 100%|██████████| 1/1 [00:04<00:00,  4.52s/it]\n",
      "Creating 3 embeddings in 1 batches of size 3:: 100%|██████████| 1/1 [00:00<00:00,  1.82it/s]\n"
     ]
    },
    {
     "name": "stdout",
     "output_type": "stream",
     "text": [
      "Attempt ingesting 173 embedding vectors of data/v1/docs/2022 Q3 AAPL.pdf\n"
     ]
    },
    {
     "name": "stderr",
     "output_type": "stream",
     "text": [
      "Creating 100 embeddings in 1 batches of size 100:: 100%|██████████| 1/1 [00:04<00:00,  4.68s/it]\n",
      "Creating 73 embeddings in 1 batches of size 73:: 100%|██████████| 1/1 [00:02<00:00,  2.92s/it]\n"
     ]
    },
    {
     "name": "stdout",
     "output_type": "stream",
     "text": [
      "Attempt ingesting 401 embedding vectors of data/v1/docs/2023 Q3 NVDA.pdf\n"
     ]
    },
    {
     "name": "stderr",
     "output_type": "stream",
     "text": [
      "Creating 100 embeddings in 1 batches of size 100:: 100%|██████████| 1/1 [00:04<00:00,  4.60s/it]\n",
      "Creating 100 embeddings in 1 batches of size 100:: 100%|██████████| 1/1 [00:03<00:00,  3.56s/it]\n",
      "Creating 100 embeddings in 1 batches of size 100:: 100%|██████████| 1/1 [00:03<00:00,  3.68s/it]\n",
      "Creating 100 embeddings in 1 batches of size 100:: 100%|██████████| 1/1 [00:02<00:00,  2.96s/it]\n",
      "Creating 1 embeddings in 1 batches of size 1:: 100%|██████████| 1/1 [00:00<00:00,  2.69it/s]\n"
     ]
    },
    {
     "name": "stdout",
     "output_type": "stream",
     "text": [
      "Attempt ingesting 353 embedding vectors of data/v1/docs/2022 Q3 NVDA.pdf\n"
     ]
    },
    {
     "name": "stderr",
     "output_type": "stream",
     "text": [
      "Creating 100 embeddings in 1 batches of size 100:: 100%|██████████| 1/1 [00:02<00:00,  3.00s/it]\n",
      "Creating 100 embeddings in 1 batches of size 100:: 100%|██████████| 1/1 [00:02<00:00,  2.98s/it]\n",
      "Creating 100 embeddings in 1 batches of size 100:: 100%|██████████| 1/1 [00:02<00:00,  2.96s/it]\n",
      "Creating 53 embeddings in 1 batches of size 53:: 100%|██████████| 1/1 [00:01<00:00,  1.83s/it]\n"
     ]
    },
    {
     "name": "stdout",
     "output_type": "stream",
     "text": [
      "Attempt ingesting 451 embedding vectors of data/v1/docs/2022 Q3 INTC.pdf\n"
     ]
    },
    {
     "name": "stderr",
     "output_type": "stream",
     "text": [
      "Creating 100 embeddings in 1 batches of size 100:: 100%|██████████| 1/1 [00:02<00:00,  2.60s/it]\n",
      "Creating 100 embeddings in 1 batches of size 100:: 100%|██████████| 1/1 [00:02<00:00,  2.47s/it]\n",
      "Creating 100 embeddings in 1 batches of size 100:: 100%|██████████| 1/1 [00:02<00:00,  2.58s/it]\n",
      "Creating 100 embeddings in 1 batches of size 100:: 100%|██████████| 1/1 [00:03<00:00,  3.25s/it]\n",
      "Creating 51 embeddings in 1 batches of size 51:: 100%|██████████| 1/1 [00:01<00:00,  1.77s/it]\n"
     ]
    },
    {
     "name": "stdout",
     "output_type": "stream",
     "text": [
      "Attempt ingesting 581 embedding vectors of data/v1/docs/2023 Q2 MSFT.pdf\n"
     ]
    },
    {
     "name": "stderr",
     "output_type": "stream",
     "text": [
      "Creating 100 embeddings in 1 batches of size 100:: 100%|██████████| 1/1 [00:02<00:00,  2.80s/it]\n",
      "Creating 100 embeddings in 1 batches of size 100:: 100%|██████████| 1/1 [00:02<00:00,  2.40s/it]\n",
      "Creating 100 embeddings in 1 batches of size 100:: 100%|██████████| 1/1 [00:02<00:00,  2.45s/it]\n",
      "Creating 100 embeddings in 1 batches of size 100:: 100%|██████████| 1/1 [00:02<00:00,  2.89s/it]\n",
      "Creating 100 embeddings in 1 batches of size 100:: 100%|██████████| 1/1 [00:02<00:00,  2.70s/it]\n",
      "Creating 81 embeddings in 1 batches of size 81:: 100%|██████████| 1/1 [00:02<00:00,  2.12s/it]\n"
     ]
    },
    {
     "name": "stdout",
     "output_type": "stream",
     "text": [
      "Attempt ingesting 366 embedding vectors of data/v1/docs/2023 Q3 INTC.pdf\n"
     ]
    },
    {
     "name": "stderr",
     "output_type": "stream",
     "text": [
      "Creating 100 embeddings in 1 batches of size 100:: 100%|██████████| 1/1 [00:02<00:00,  2.44s/it]\n",
      "Creating 100 embeddings in 1 batches of size 100:: 100%|██████████| 1/1 [00:02<00:00,  2.50s/it]\n",
      "Creating 100 embeddings in 1 batches of size 100:: 100%|██████████| 1/1 [00:02<00:00,  2.16s/it]\n",
      "Creating 66 embeddings in 1 batches of size 66:: 100%|██████████| 1/1 [00:02<00:00,  2.14s/it]\n"
     ]
    },
    {
     "name": "stdout",
     "output_type": "stream",
     "text": [
      "Attempt ingesting 421 embedding vectors of data/v1/docs/2023 Q2 AMZN.pdf\n"
     ]
    },
    {
     "name": "stderr",
     "output_type": "stream",
     "text": [
      "Creating 100 embeddings in 1 batches of size 100:: 100%|██████████| 1/1 [00:02<00:00,  2.68s/it]\n",
      "Creating 100 embeddings in 1 batches of size 100:: 100%|██████████| 1/1 [00:02<00:00,  2.90s/it]\n",
      "Creating 100 embeddings in 1 batches of size 100:: 100%|██████████| 1/1 [00:02<00:00,  2.96s/it]\n",
      "Creating 100 embeddings in 1 batches of size 100:: 100%|██████████| 1/1 [00:03<00:00,  3.11s/it]\n",
      "Creating 21 embeddings in 1 batches of size 21:: 100%|██████████| 1/1 [00:01<00:00,  1.19s/it]\n"
     ]
    },
    {
     "name": "stdout",
     "output_type": "stream",
     "text": [
      "Attempt ingesting 277 embedding vectors of data/v1/docs/2023 Q1 INTC.pdf\n"
     ]
    },
    {
     "name": "stderr",
     "output_type": "stream",
     "text": [
      "Creating 100 embeddings in 1 batches of size 100:: 100%|██████████| 1/1 [00:02<00:00,  2.74s/it]\n",
      "Creating 100 embeddings in 1 batches of size 100:: 100%|██████████| 1/1 [00:02<00:00,  2.70s/it]\n",
      "Creating 77 embeddings in 1 batches of size 77:: 100%|██████████| 1/1 [00:02<00:00,  2.24s/it]\n"
     ]
    },
    {
     "name": "stdout",
     "output_type": "stream",
     "text": [
      "Attempt ingesting 409 embedding vectors of data/v1/docs/2023 Q1 AMZN.pdf\n"
     ]
    },
    {
     "name": "stderr",
     "output_type": "stream",
     "text": [
      "Creating 100 embeddings in 1 batches of size 100:: 100%|██████████| 1/1 [00:02<00:00,  2.89s/it]\n",
      "Creating 100 embeddings in 1 batches of size 100:: 100%|██████████| 1/1 [00:02<00:00,  2.90s/it]\n",
      "Creating 100 embeddings in 1 batches of size 100:: 100%|██████████| 1/1 [00:04<00:00,  4.12s/it]\n",
      "Creating 100 embeddings in 1 batches of size 100:: 100%|██████████| 1/1 [00:02<00:00,  2.88s/it]\n",
      "Creating 9 embeddings in 1 batches of size 9:: 100%|██████████| 1/1 [00:00<00:00,  1.68it/s]\n"
     ]
    },
    {
     "name": "stdout",
     "output_type": "stream",
     "text": [
      "Attempt ingesting 430 embedding vectors of data/v1/docs/2023 Q3 AMZN.pdf\n"
     ]
    },
    {
     "name": "stderr",
     "output_type": "stream",
     "text": [
      "Creating 100 embeddings in 1 batches of size 100:: 100%|██████████| 1/1 [00:02<00:00,  2.91s/it]\n",
      "Creating 100 embeddings in 1 batches of size 100:: 100%|██████████| 1/1 [00:02<00:00,  2.75s/it]\n",
      "Creating 100 embeddings in 1 batches of size 100:: 100%|██████████| 1/1 [00:02<00:00,  2.77s/it]\n",
      "Creating 100 embeddings in 1 batches of size 100:: 100%|██████████| 1/1 [00:02<00:00,  2.76s/it]\n",
      "Creating 30 embeddings in 1 batches of size 30:: 100%|██████████| 1/1 [00:01<00:00,  1.31s/it]\n"
     ]
    },
    {
     "name": "stdout",
     "output_type": "stream",
     "text": [
      "Attempt ingesting 504 embedding vectors of data/v1/docs/2023 Q3 MSFT.pdf\n"
     ]
    },
    {
     "name": "stderr",
     "output_type": "stream",
     "text": [
      "Creating 100 embeddings in 1 batches of size 100:: 100%|██████████| 1/1 [00:02<00:00,  2.98s/it]\n",
      "Creating 100 embeddings in 1 batches of size 100:: 100%|██████████| 1/1 [00:03<00:00,  3.10s/it]\n",
      "Creating 100 embeddings in 1 batches of size 100:: 100%|██████████| 1/1 [00:02<00:00,  2.99s/it]\n",
      "Creating 100 embeddings in 1 batches of size 100:: 100%|██████████| 1/1 [00:03<00:00,  3.09s/it]\n",
      "Creating 100 embeddings in 1 batches of size 100:: 100%|██████████| 1/1 [00:03<00:00,  3.08s/it]\n",
      "Creating 4 embeddings in 1 batches of size 4:: 100%|██████████| 1/1 [00:00<00:00,  2.05it/s]\n"
     ]
    },
    {
     "name": "stdout",
     "output_type": "stream",
     "text": [
      "Attempt ingesting 346 embedding vectors of data/v1/docs/2023 Q2 INTC.pdf\n"
     ]
    },
    {
     "name": "stderr",
     "output_type": "stream",
     "text": [
      "Creating 100 embeddings in 1 batches of size 100:: 100%|██████████| 1/1 [00:02<00:00,  2.80s/it]\n",
      "Creating 100 embeddings in 1 batches of size 100:: 100%|██████████| 1/1 [00:02<00:00,  2.94s/it]\n",
      "Creating 100 embeddings in 1 batches of size 100:: 100%|██████████| 1/1 [00:02<00:00,  2.88s/it]\n",
      "Creating 46 embeddings in 1 batches of size 46:: 100%|██████████| 1/1 [00:01<00:00,  1.91s/it]\n"
     ]
    },
    {
     "name": "stdout",
     "output_type": "stream",
     "text": [
      "Attempt ingesting 171 embedding vectors of data/v1/docs/2023 Q3 AAPL.pdf\n"
     ]
    },
    {
     "name": "stderr",
     "output_type": "stream",
     "text": [
      "Creating 100 embeddings in 1 batches of size 100:: 100%|██████████| 1/1 [00:03<00:00,  3.01s/it]\n",
      "Creating 71 embeddings in 1 batches of size 71:: 100%|██████████| 1/1 [00:02<00:00,  2.40s/it]\n"
     ]
    }
   ],
   "execution_count": 1
  },
  {
   "metadata": {
    "ExecuteTime": {
     "end_time": "2024-06-03T03:35:18.398909Z",
     "start_time": "2024-06-03T03:35:13.021528Z"
    }
   },
   "cell_type": "code",
   "source": [
    "from src.qachain import QAChain\n",
    "\n",
    "qna = QAChain()"
   ],
   "id": "1a09a8ec35abebb4",
   "outputs": [
    {
     "name": "stderr",
     "output_type": "stream",
     "text": [
      "\r"
     ]
    }
   ],
   "execution_count": 2
  },
  {
   "metadata": {
    "ExecuteTime": {
     "end_time": "2024-06-03T03:35:18.403770Z",
     "start_time": "2024-06-03T03:35:18.400345Z"
    }
   },
   "cell_type": "code",
   "source": [
    "queries = [\"How has Amazon's total net sales changed over time?\", \n",
    "         \"What are the major factors contributing to the change in Apple's gross margin in the most recent 10-Q compared to the previous quarters?\",\n",
    "         \"Has Microsoft partaken in any substantial stock buyback programs in the reported quarters, and what are the economic consequences of these actions?\",\n",
    "         \"What effective tax rate has Microsoft reported in these quarters and how does it differ from period to period?\",\n",
    "         \"What are the key changes in NVIDIA's liquidity status or cash flows as disclosed in these quarterly reports?\"]"
   ],
   "id": "50e1462e0106e82d",
   "outputs": [],
   "execution_count": 3
  },
  {
   "metadata": {
    "ExecuteTime": {
     "end_time": "2024-06-03T03:36:03.240633Z",
     "start_time": "2024-06-03T03:35:18.591098Z"
    }
   },
   "cell_type": "code",
   "source": [
    "for query in queries:\n",
    "    results = qna.ask_question(\n",
    "        query=query\n",
    "    )\n",
    "    print(\"query:\")\n",
    "    print(query)\n",
    "    print(\"answer:\")\n",
    "    print(results)\n",
    "    print('='*10)"
   ],
   "id": "fbe953e7b9628e02",
   "outputs": [
    {
     "name": "stdout",
     "output_type": "stream",
     "text": [
      "Exception raised. Generating response.\n",
      "Deep Lake Dataset in database/text_vectorstore already exists, loading from the storage\n"
     ]
    },
    {
     "name": "stderr",
     "output_type": "stream",
     "text": [
      "Creating 1 embeddings in 1 batches of size 1:: 100%|██████████| 1/1 [00:00<00:00,  2.86it/s]\n"
     ]
    },
    {
     "name": "stdout",
     "output_type": "stream",
     "text": [
      "query:\n",
      "How has Amazon's total net sales changed over time?\n",
      "answer:\n",
      "Amazon's total net sales have increased over time. In the three months ended June 30, 2022, Amazon's total net sales were $121,234 million. In the three months ended June 30, 2023, Amazon's total net sales were $134,383 million, an increase of 10.8%. In the six months ended June 30, 2022, Amazon's total net sales were $237,678 million. In the six months ended June 30, 2023, Amazon's total net sales were $261,741 million, an increase of 10.1%.\n",
      "==========\n",
      "Generating response\n",
      "Deep Lake Dataset in database/text_vectorstore already exists, loading from the storage\n"
     ]
    },
    {
     "name": "stderr",
     "output_type": "stream",
     "text": [
      "Creating 1 embeddings in 1 batches of size 1:: 100%|██████████| 1/1 [00:00<00:00,  2.84it/s]\n"
     ]
    },
    {
     "name": "stdout",
     "output_type": "stream",
     "text": [
      "query:\n",
      "What are the major factors contributing to the change in Apple's gross margin in the most recent 10-Q compared to the previous quarters?\n",
      "answer:\n",
      "The provided text does not contain information about the change in Apple's gross margin in the most recent 10-Q compared to the previous quarters, so I cannot answer this question from the provided context.\n",
      "==========\n",
      "Generating response\n",
      "Deep Lake Dataset in database/text_vectorstore already exists, loading from the storage\n"
     ]
    },
    {
     "name": "stderr",
     "output_type": "stream",
     "text": [
      "Creating 1 embeddings in 1 batches of size 1:: 100%|██████████| 1/1 [00:00<00:00,  2.80it/s]\n"
     ]
    },
    {
     "name": "stdout",
     "output_type": "stream",
     "text": [
      "query:\n",
      "Has Microsoft partaken in any substantial stock buyback programs in the reported quarters, and what are the economic consequences of these actions?\n",
      "answer:\n",
      "Yes, Microsoft has engaged in substantial stock buyback programs in the reported quarters. For the three months ended September 30, 2022, Microsoft repurchased 17 million shares of its common stock for $4.6 billion. For the six months ended December 31, 2022, Microsoft repurchased 37 million shares of its common stock for $9.2 billion. As of December 31, 2022, $31.5 billion remained of Microsoft's $60 billion share repurchase program.\n",
      "\n",
      "The economic consequences of these actions include:\n",
      "\n",
      "* **Reduced number of shares outstanding:** Stock buybacks reduce the number of shares outstanding, which can increase earnings per share (EPS) and other financial metrics.\n",
      "* **Increased stock price:** Stock buybacks can increase the stock price by reducing the supply of shares available for trading.\n",
      "* **Return of capital to shareholders:** Stock buybacks can be a way for companies to return capital to shareholders, which can be attractive to investors.\n",
      "* **Reduced financial flexibility:** Stock buybacks can reduce a company's financial flexibility, as they can use up cash that could be used for other purposes, such as investment or debt reduction.\n",
      "==========\n",
      "Generating response\n",
      "Deep Lake Dataset in database/text_vectorstore already exists, loading from the storage\n"
     ]
    },
    {
     "name": "stderr",
     "output_type": "stream",
     "text": [
      "Creating 1 embeddings in 1 batches of size 1:: 100%|██████████| 1/1 [00:00<00:00,  2.82it/s]\n"
     ]
    },
    {
     "name": "stdout",
     "output_type": "stream",
     "text": [
      "query:\n",
      "What effective tax rate has Microsoft reported in these quarters and how does it differ from period to period?\n",
      "answer:\n",
      "- Q3 2023: 19%\n",
      "- Q3 2022: 0%\n",
      "- Q2 2023: 280.5%\n",
      "- Q2 2022: 50.1%\n",
      "- Q1 2023: 34.4%\n",
      "- Q1 2022: 12.5%\n",
      "- YTD 2023: 19%\n",
      "- YTD 2022: 11%\n",
      "- Q1 2023: 642.0%\n",
      "- Q1 2022: 0.5%\n",
      "- YTD 2022: (1.3)%\n",
      "- YTD 2021: 7.7%\n",
      "- Q1 2023: 19%\n",
      "- Q1 2022: 17%\n",
      "- YTD 2023: 19%\n",
      "- YTD 2022: 11%\n",
      "==========\n",
      "Generating response\n",
      "Deep Lake Dataset in database/text_vectorstore already exists, loading from the storage\n"
     ]
    },
    {
     "name": "stderr",
     "output_type": "stream",
     "text": [
      "Creating 1 embeddings in 1 batches of size 1:: 100%|██████████| 1/1 [00:00<00:00,  2.94it/s]"
     ]
    },
    {
     "name": "stdout",
     "output_type": "stream",
     "text": [
      "query:\n",
      "What are the key changes in NVIDIA's liquidity status or cash flows as disclosed in these quarterly reports?\n",
      "answer:\n",
      "The provided text does not contain information about NVIDIA's liquidity status or cash flows, so I cannot answer this question from the provided context.\n",
      "==========\n"
     ]
    },
    {
     "name": "stderr",
     "output_type": "stream",
     "text": [
      "\n"
     ]
    }
   ],
   "execution_count": 5
  },
  {
   "metadata": {
    "ExecuteTime": {
     "end_time": "2024-06-03T03:36:03.245169Z",
     "start_time": "2024-06-03T03:36:03.242282Z"
    }
   },
   "cell_type": "code",
   "source": "",
   "id": "4ebc550dcf8b018e",
   "outputs": [],
   "execution_count": 5
  }
 ],
 "metadata": {
  "kernelspec": {
   "display_name": "Python 3",
   "language": "python",
   "name": "python3"
  },
  "language_info": {
   "codemirror_mode": {
    "name": "ipython",
    "version": 2
   },
   "file_extension": ".py",
   "mimetype": "text/x-python",
   "name": "python",
   "nbconvert_exporter": "python",
   "pygments_lexer": "ipython2",
   "version": "2.7.6"
  }
 },
 "nbformat": 4,
 "nbformat_minor": 5
}
